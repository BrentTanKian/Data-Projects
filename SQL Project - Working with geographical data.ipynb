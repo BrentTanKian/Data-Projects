{
 "cells": [
  {
   "cell_type": "markdown",
   "metadata": {},
   "source": [
    "## Exploring data with SQL\n",
    "\n",
    "In this project, I'll be working with data from the CIA World Factbook. It is a huge database compiling data, statistics and information regarding all the countries around the world. I will be running some SQL queries on the data to tease out some interesting bits to share with you. "
   ]
  },
  {
   "cell_type": "code",
   "execution_count": 2,
   "metadata": {},
   "outputs": [],
   "source": [
    "import sqlite3"
   ]
  },
  {
   "cell_type": "code",
   "execution_count": 1,
   "metadata": {},
   "outputs": [],
   "source": [
    "%%capture\n",
    "%load_ext sql\n",
    "%sql sqlite:///factbook.db"
   ]
  },
  {
   "cell_type": "code",
   "execution_count": 4,
   "metadata": {},
   "outputs": [
    {
     "name": "stdout",
     "output_type": "stream",
     "text": [
      " * sqlite:///factbook.db\n",
      "Done.\n"
     ]
    },
    {
     "data": {
      "text/html": [
       "<table>\n",
       "    <thead>\n",
       "        <tr>\n",
       "            <th>id</th>\n",
       "            <th>code</th>\n",
       "            <th>name</th>\n",
       "            <th>area</th>\n",
       "            <th>area_land</th>\n",
       "            <th>area_water</th>\n",
       "            <th>population</th>\n",
       "            <th>population_growth</th>\n",
       "            <th>birth_rate</th>\n",
       "            <th>death_rate</th>\n",
       "            <th>migration_rate</th>\n",
       "        </tr>\n",
       "    </thead>\n",
       "    <tbody>\n",
       "        <tr>\n",
       "            <td>1</td>\n",
       "            <td>af</td>\n",
       "            <td>Afghanistan</td>\n",
       "            <td>652230</td>\n",
       "            <td>652230</td>\n",
       "            <td>0</td>\n",
       "            <td>32564342</td>\n",
       "            <td>2.32</td>\n",
       "            <td>38.57</td>\n",
       "            <td>13.89</td>\n",
       "            <td>1.51</td>\n",
       "        </tr>\n",
       "        <tr>\n",
       "            <td>2</td>\n",
       "            <td>al</td>\n",
       "            <td>Albania</td>\n",
       "            <td>28748</td>\n",
       "            <td>27398</td>\n",
       "            <td>1350</td>\n",
       "            <td>3029278</td>\n",
       "            <td>0.3</td>\n",
       "            <td>12.92</td>\n",
       "            <td>6.58</td>\n",
       "            <td>3.3</td>\n",
       "        </tr>\n",
       "        <tr>\n",
       "            <td>3</td>\n",
       "            <td>ag</td>\n",
       "            <td>Algeria</td>\n",
       "            <td>2381741</td>\n",
       "            <td>2381741</td>\n",
       "            <td>0</td>\n",
       "            <td>39542166</td>\n",
       "            <td>1.84</td>\n",
       "            <td>23.67</td>\n",
       "            <td>4.31</td>\n",
       "            <td>0.92</td>\n",
       "        </tr>\n",
       "        <tr>\n",
       "            <td>4</td>\n",
       "            <td>an</td>\n",
       "            <td>Andorra</td>\n",
       "            <td>468</td>\n",
       "            <td>468</td>\n",
       "            <td>0</td>\n",
       "            <td>85580</td>\n",
       "            <td>0.12</td>\n",
       "            <td>8.13</td>\n",
       "            <td>6.96</td>\n",
       "            <td>0.0</td>\n",
       "        </tr>\n",
       "        <tr>\n",
       "            <td>5</td>\n",
       "            <td>ao</td>\n",
       "            <td>Angola</td>\n",
       "            <td>1246700</td>\n",
       "            <td>1246700</td>\n",
       "            <td>0</td>\n",
       "            <td>19625353</td>\n",
       "            <td>2.78</td>\n",
       "            <td>38.78</td>\n",
       "            <td>11.49</td>\n",
       "            <td>0.46</td>\n",
       "        </tr>\n",
       "    </tbody>\n",
       "</table>"
      ],
      "text/plain": [
       "[(1, 'af', 'Afghanistan', 652230, 652230, 0, 32564342, 2.32, 38.57, 13.89, 1.51),\n",
       " (2, 'al', 'Albania', 28748, 27398, 1350, 3029278, 0.3, 12.92, 6.58, 3.3),\n",
       " (3, 'ag', 'Algeria', 2381741, 2381741, 0, 39542166, 1.84, 23.67, 4.31, 0.92),\n",
       " (4, 'an', 'Andorra', 468, 468, 0, 85580, 0.12, 8.13, 6.96, 0.0),\n",
       " (5, 'ao', 'Angola', 1246700, 1246700, 0, 19625353, 2.78, 38.78, 11.49, 0.46)]"
      ]
     },
     "execution_count": 4,
     "metadata": {},
     "output_type": "execute_result"
    }
   ],
   "source": [
    "%%sql\n",
    "SELECT *\n",
    "    FROM facts\n",
    "  LIMIT 5;"
   ]
  },
  {
   "cell_type": "markdown",
   "metadata": {},
   "source": [
    "Looking at the first few lines of our dataset, we can observe that it contains information such as land area, population size, birth/death rates and other geographical/population-related data for many different countries. Let's continue to query our database to extract more valuable information."
   ]
  },
  {
   "cell_type": "code",
   "execution_count": 5,
   "metadata": {},
   "outputs": [
    {
     "name": "stdout",
     "output_type": "stream",
     "text": [
      " * sqlite:///factbook.db\n",
      "Done.\n"
     ]
    },
    {
     "data": {
      "text/html": [
       "<table>\n",
       "    <thead>\n",
       "        <tr>\n",
       "            <th>MIN(population)</th>\n",
       "            <th>MAX(population)</th>\n",
       "            <th>MIN(population_growth)</th>\n",
       "            <th>MAX(population_growth)</th>\n",
       "        </tr>\n",
       "    </thead>\n",
       "    <tbody>\n",
       "        <tr>\n",
       "            <td>0</td>\n",
       "            <td>7256490011</td>\n",
       "            <td>0.0</td>\n",
       "            <td>4.02</td>\n",
       "        </tr>\n",
       "    </tbody>\n",
       "</table>"
      ],
      "text/plain": [
       "[(0, 7256490011, 0.0, 4.02)]"
      ]
     },
     "execution_count": 5,
     "metadata": {},
     "output_type": "execute_result"
    }
   ],
   "source": [
    "%%sql\n",
    "SELECT MIN(population), MAX(population), MIN(population_growth), MAX(population_growth)\n",
    "FROM facts;"
   ]
  },
  {
   "cell_type": "markdown",
   "metadata": {},
   "source": [
    "Wanting to discover the largest and smallest populations sizes, along with the largest and smallest population growth rates, we have instead discovered something fishy with the data. Population can't be zero and neither can populaton growth be zero. There must be some kind of mistake! And also, it isn't possible for a country to have a population of over 7 billion. Now, let us look into the countries that have these erroneous data."
   ]
  },
  {
   "cell_type": "code",
   "execution_count": 2,
   "metadata": {},
   "outputs": [
    {
     "name": "stdout",
     "output_type": "stream",
     "text": [
      " * sqlite:///factbook.db\n",
      "Done.\n"
     ]
    },
    {
     "data": {
      "text/html": [
       "<table>\n",
       "    <thead>\n",
       "        <tr>\n",
       "            <th>name</th>\n",
       "        </tr>\n",
       "    </thead>\n",
       "    <tbody>\n",
       "        <tr>\n",
       "            <td>Antarctica</td>\n",
       "        </tr>\n",
       "    </tbody>\n",
       "</table>"
      ],
      "text/plain": [
       "[('Antarctica',)]"
      ]
     },
     "execution_count": 2,
     "metadata": {},
     "output_type": "execute_result"
    }
   ],
   "source": [
    "%%sql\n",
    "SELECT name FROM facts\n",
    "WHERE population=(SELECT MIN(population) FROM facts)"
   ]
  },
  {
   "cell_type": "code",
   "execution_count": 10,
   "metadata": {},
   "outputs": [
    {
     "name": "stdout",
     "output_type": "stream",
     "text": [
      " * sqlite:///factbook.db\n",
      "Done.\n"
     ]
    },
    {
     "data": {
      "text/html": [
       "<table>\n",
       "    <thead>\n",
       "        <tr>\n",
       "            <th>name</th>\n",
       "        </tr>\n",
       "    </thead>\n",
       "    <tbody>\n",
       "        <tr>\n",
       "            <td>World</td>\n",
       "        </tr>\n",
       "    </tbody>\n",
       "</table>"
      ],
      "text/plain": [
       "[('World',)]"
      ]
     },
     "execution_count": 10,
     "metadata": {},
     "output_type": "execute_result"
    }
   ],
   "source": [
    "%%sql\n",
    "SELECT name FROM facts\n",
    "WHERE population=(SELECT MAX(population) FROM facts)"
   ]
  },
  {
   "cell_type": "markdown",
   "metadata": {},
   "source": [
    "Well, it turns out that there wasn't a mistake. Antarctica doesn't having anyone living there, so the area having a population of zero is not at all surprising. Also, the country having the population of over 7 billion is not actually a country, but the total world population. Now that we know about these special rows/values, let us properly compute the summary statistics for the dataset. "
   ]
  },
  {
   "cell_type": "code",
   "execution_count": 3,
   "metadata": {},
   "outputs": [
    {
     "name": "stdout",
     "output_type": "stream",
     "text": [
      " * sqlite:///factbook.db\n",
      "Done.\n"
     ]
    },
    {
     "data": {
      "text/html": [
       "<table>\n",
       "    <thead>\n",
       "        <tr>\n",
       "            <th>MIN(population)</th>\n",
       "            <th>MAX(population)</th>\n",
       "            <th>MIN(population_growth)</th>\n",
       "            <th>MAX(population_growth)</th>\n",
       "        </tr>\n",
       "    </thead>\n",
       "    <tbody>\n",
       "        <tr>\n",
       "            <td>48</td>\n",
       "            <td>1367485388</td>\n",
       "            <td>0.0</td>\n",
       "            <td>4.02</td>\n",
       "        </tr>\n",
       "    </tbody>\n",
       "</table>"
      ],
      "text/plain": [
       "[(48, 1367485388, 0.0, 4.02)]"
      ]
     },
     "execution_count": 3,
     "metadata": {},
     "output_type": "execute_result"
    }
   ],
   "source": [
    "%%sql\n",
    "SELECT MIN(population),MAX(population),MIN(population_growth),MAX(population_growth)\n",
    "FROM facts\n",
    "WHERE name!='Antarctica' AND name!='World'"
   ]
  },
  {
   "cell_type": "markdown",
   "metadata": {},
   "source": [
    "It seems like all the values look quite right now, except that for minimum population growth. This means that there is another country other than Antarctica which has 0 population growth. Let's find out what it is."
   ]
  },
  {
   "cell_type": "code",
   "execution_count": 4,
   "metadata": {},
   "outputs": [
    {
     "name": "stdout",
     "output_type": "stream",
     "text": [
      " * sqlite:///factbook.db\n",
      "Done.\n"
     ]
    },
    {
     "data": {
      "text/html": [
       "<table>\n",
       "    <thead>\n",
       "        <tr>\n",
       "            <th>name</th>\n",
       "        </tr>\n",
       "    </thead>\n",
       "    <tbody>\n",
       "        <tr>\n",
       "            <td>Holy See (Vatican City)</td>\n",
       "        </tr>\n",
       "        <tr>\n",
       "            <td>Cocos (Keeling) Islands</td>\n",
       "        </tr>\n",
       "        <tr>\n",
       "            <td>Greenland</td>\n",
       "        </tr>\n",
       "        <tr>\n",
       "            <td>Pitcairn Islands</td>\n",
       "        </tr>\n",
       "    </tbody>\n",
       "</table>"
      ],
      "text/plain": [
       "[('Holy See (Vatican City)',),\n",
       " ('Cocos (Keeling) Islands',),\n",
       " ('Greenland',),\n",
       " ('Pitcairn Islands',)]"
      ]
     },
     "execution_count": 4,
     "metadata": {},
     "output_type": "execute_result"
    }
   ],
   "source": [
    "%%sql\n",
    "SELECT name FROM facts\n",
    "WHERE population_growth=0"
   ]
  },
  {
   "cell_type": "markdown",
   "metadata": {},
   "source": [
    "It seems odd that the places above have 0 population growth associated with them, because there are clearly sizeable living populations in the Vatican City as well as Greenland. But perhaps due to the population sizes being quite small, the dataset has approximated the population growth rate to be zero. Now that we have gotten the minimum population growth problem out of the way, let's display the other summary statistics together with their respective countries."
   ]
  },
  {
   "cell_type": "code",
   "execution_count": 7,
   "metadata": {},
   "outputs": [
    {
     "name": "stdout",
     "output_type": "stream",
     "text": [
      " * sqlite:///factbook.db\n",
      "Done.\n"
     ]
    },
    {
     "data": {
      "text/html": [
       "<table>\n",
       "    <thead>\n",
       "        <tr>\n",
       "            <th>name</th>\n",
       "            <th>MIN(population)</th>\n",
       "        </tr>\n",
       "    </thead>\n",
       "    <tbody>\n",
       "        <tr>\n",
       "            <td>Pitcairn Islands</td>\n",
       "            <td>48</td>\n",
       "        </tr>\n",
       "    </tbody>\n",
       "</table>"
      ],
      "text/plain": [
       "[('Pitcairn Islands', 48)]"
      ]
     },
     "execution_count": 7,
     "metadata": {},
     "output_type": "execute_result"
    }
   ],
   "source": [
    "%%sql\n",
    "SELECT name, MIN(population)\n",
    "FROM facts\n",
    "WHERE name!='Antarctica'"
   ]
  },
  {
   "cell_type": "code",
   "execution_count": 9,
   "metadata": {},
   "outputs": [
    {
     "name": "stdout",
     "output_type": "stream",
     "text": [
      " * sqlite:///factbook.db\n",
      "Done.\n"
     ]
    },
    {
     "data": {
      "text/html": [
       "<table>\n",
       "    <thead>\n",
       "        <tr>\n",
       "            <th>name</th>\n",
       "            <th>MAX(population)</th>\n",
       "        </tr>\n",
       "    </thead>\n",
       "    <tbody>\n",
       "        <tr>\n",
       "            <td>China</td>\n",
       "            <td>1367485388</td>\n",
       "        </tr>\n",
       "    </tbody>\n",
       "</table>"
      ],
      "text/plain": [
       "[('China', 1367485388)]"
      ]
     },
     "execution_count": 9,
     "metadata": {},
     "output_type": "execute_result"
    }
   ],
   "source": [
    "%%sql\n",
    "SELECT name, MAX(population)\n",
    "FROM facts\n",
    "WHERE name!='World'"
   ]
  },
  {
   "cell_type": "code",
   "execution_count": 10,
   "metadata": {},
   "outputs": [
    {
     "name": "stdout",
     "output_type": "stream",
     "text": [
      " * sqlite:///factbook.db\n",
      "Done.\n"
     ]
    },
    {
     "data": {
      "text/html": [
       "<table>\n",
       "    <thead>\n",
       "        <tr>\n",
       "            <th>name</th>\n",
       "            <th>MAX(population_growth)</th>\n",
       "        </tr>\n",
       "    </thead>\n",
       "    <tbody>\n",
       "        <tr>\n",
       "            <td>South Sudan</td>\n",
       "            <td>4.02</td>\n",
       "        </tr>\n",
       "    </tbody>\n",
       "</table>"
      ],
      "text/plain": [
       "[('South Sudan', 4.02)]"
      ]
     },
     "execution_count": 10,
     "metadata": {},
     "output_type": "execute_result"
    }
   ],
   "source": [
    "%%sql\n",
    "SELECT name, MAX(population_growth)\n",
    "FROM facts"
   ]
  },
  {
   "cell_type": "markdown",
   "metadata": {},
   "source": [
    "From the queries above, we can see that China has the world's largest population (1.3 billion) and Pitcairn Islands, a small group of islands found near Britain has the smallest population of 48. The country with the highest population growth rate is South Sudan, found in Africa. Moving on, let's calculate the average population and area of a country. "
   ]
  },
  {
   "cell_type": "code",
   "execution_count": 11,
   "metadata": {},
   "outputs": [
    {
     "name": "stdout",
     "output_type": "stream",
     "text": [
      " * sqlite:///factbook.db\n",
      "Done.\n"
     ]
    },
    {
     "data": {
      "text/html": [
       "<table>\n",
       "    <thead>\n",
       "        <tr>\n",
       "            <th>AVG(population)</th>\n",
       "            <th>AVG(area)</th>\n",
       "        </tr>\n",
       "    </thead>\n",
       "    <tbody>\n",
       "        <tr>\n",
       "            <td>62094928.32231405</td>\n",
       "            <td>555093.546184739</td>\n",
       "        </tr>\n",
       "    </tbody>\n",
       "</table>"
      ],
      "text/plain": [
       "[(62094928.32231405, 555093.546184739)]"
      ]
     },
     "execution_count": 11,
     "metadata": {},
     "output_type": "execute_result"
    }
   ],
   "source": [
    "%%sql\n",
    "SELECT AVG(population), AVG(area)\n",
    "FROM facts"
   ]
  },
  {
   "cell_type": "markdown",
   "metadata": {},
   "source": [
    "The average country's population is around 62 million and the average land area of a country is around five hundred and fifty-five thousand square kilometers. Now that we know the average population and average area, let's come up with a few queries that explore countries with populations and areas which are above and below these values."
   ]
  },
  {
   "cell_type": "code",
   "execution_count": 2,
   "metadata": {},
   "outputs": [
    {
     "name": "stdout",
     "output_type": "stream",
     "text": [
      " * sqlite:///factbook.db\n",
      "Done.\n"
     ]
    },
    {
     "data": {
      "text/html": [
       "<table>\n",
       "    <thead>\n",
       "        <tr>\n",
       "            <th>name</th>\n",
       "        </tr>\n",
       "    </thead>\n",
       "    <tbody>\n",
       "        <tr>\n",
       "            <td>Bangladesh</td>\n",
       "        </tr>\n",
       "        <tr>\n",
       "            <td>Germany</td>\n",
       "        </tr>\n",
       "        <tr>\n",
       "            <td>Japan</td>\n",
       "        </tr>\n",
       "        <tr>\n",
       "            <td>Philippines</td>\n",
       "        </tr>\n",
       "        <tr>\n",
       "            <td>Thailand</td>\n",
       "        </tr>\n",
       "        <tr>\n",
       "            <td>United Kingdom</td>\n",
       "        </tr>\n",
       "        <tr>\n",
       "            <td>Vietnam</td>\n",
       "        </tr>\n",
       "    </tbody>\n",
       "</table>"
      ],
      "text/plain": [
       "[('Bangladesh',),\n",
       " ('Germany',),\n",
       " ('Japan',),\n",
       " ('Philippines',),\n",
       " ('Thailand',),\n",
       " ('United Kingdom',),\n",
       " ('Vietnam',)]"
      ]
     },
     "execution_count": 2,
     "metadata": {},
     "output_type": "execute_result"
    }
   ],
   "source": [
    "%%sql\n",
    "SELECT name FROM facts\n",
    "WHERE population>(SELECT AVG(population) FROM facts) AND area<(SELECT AVG(area) FROM facts)"
   ]
  },
  {
   "cell_type": "markdown",
   "metadata": {},
   "source": [
    "Instead of coming up with a list of countries with population greater than the average, a list of countries with population lower than the average, and doing the same for area, I have decided to zoom in on a few of the more interesting countries, where population size is greater than average, but land area is smaller than average. \n",
    "\n",
    "These countries are jam packed with people, and it is certainly not surprising to see countries such as Bangladesh and Philippines in this list, where populations have exploded in recent times. Now let's take a look at the opposite scenario, where population size is lower than average, and area is greater than average. "
   ]
  },
  {
   "cell_type": "code",
   "execution_count": 3,
   "metadata": {},
   "outputs": [
    {
     "name": "stdout",
     "output_type": "stream",
     "text": [
      " * sqlite:///factbook.db\n",
      "Done.\n"
     ]
    },
    {
     "data": {
      "text/html": [
       "<table>\n",
       "    <thead>\n",
       "        <tr>\n",
       "            <th>name</th>\n",
       "        </tr>\n",
       "    </thead>\n",
       "    <tbody>\n",
       "        <tr>\n",
       "            <td>Afghanistan</td>\n",
       "        </tr>\n",
       "        <tr>\n",
       "            <td>Algeria</td>\n",
       "        </tr>\n",
       "        <tr>\n",
       "            <td>Angola</td>\n",
       "        </tr>\n",
       "        <tr>\n",
       "            <td>Argentina</td>\n",
       "        </tr>\n",
       "        <tr>\n",
       "            <td>Australia</td>\n",
       "        </tr>\n",
       "        <tr>\n",
       "            <td>Bolivia</td>\n",
       "        </tr>\n",
       "        <tr>\n",
       "            <td>Botswana</td>\n",
       "        </tr>\n",
       "        <tr>\n",
       "            <td>Burma</td>\n",
       "        </tr>\n",
       "        <tr>\n",
       "            <td>Canada</td>\n",
       "        </tr>\n",
       "        <tr>\n",
       "            <td>Central African Republic</td>\n",
       "        </tr>\n",
       "        <tr>\n",
       "            <td>Chile</td>\n",
       "        </tr>\n",
       "        <tr>\n",
       "            <td>Colombia</td>\n",
       "        </tr>\n",
       "        <tr>\n",
       "            <td>Kazakhstan</td>\n",
       "        </tr>\n",
       "        <tr>\n",
       "            <td>Kenya</td>\n",
       "        </tr>\n",
       "        <tr>\n",
       "            <td>Libya</td>\n",
       "        </tr>\n",
       "        <tr>\n",
       "            <td>Madagascar</td>\n",
       "        </tr>\n",
       "        <tr>\n",
       "            <td>Mali</td>\n",
       "        </tr>\n",
       "        <tr>\n",
       "            <td>Mauritania</td>\n",
       "        </tr>\n",
       "        <tr>\n",
       "            <td>Mongolia</td>\n",
       "        </tr>\n",
       "        <tr>\n",
       "            <td>Mozambique</td>\n",
       "        </tr>\n",
       "        <tr>\n",
       "            <td>Namibia</td>\n",
       "        </tr>\n",
       "        <tr>\n",
       "            <td>Peru</td>\n",
       "        </tr>\n",
       "        <tr>\n",
       "            <td>Saudi Arabia</td>\n",
       "        </tr>\n",
       "        <tr>\n",
       "            <td>Somalia</td>\n",
       "        </tr>\n",
       "        <tr>\n",
       "            <td>South Africa</td>\n",
       "        </tr>\n",
       "        <tr>\n",
       "            <td>South Sudan</td>\n",
       "        </tr>\n",
       "        <tr>\n",
       "            <td>Sudan</td>\n",
       "        </tr>\n",
       "        <tr>\n",
       "            <td>Tanzania</td>\n",
       "        </tr>\n",
       "        <tr>\n",
       "            <td>Ukraine</td>\n",
       "        </tr>\n",
       "        <tr>\n",
       "            <td>Venezuela</td>\n",
       "        </tr>\n",
       "        <tr>\n",
       "            <td>Zambia</td>\n",
       "        </tr>\n",
       "        <tr>\n",
       "            <td>Greenland</td>\n",
       "        </tr>\n",
       "    </tbody>\n",
       "</table>"
      ],
      "text/plain": [
       "[('Afghanistan',),\n",
       " ('Algeria',),\n",
       " ('Angola',),\n",
       " ('Argentina',),\n",
       " ('Australia',),\n",
       " ('Bolivia',),\n",
       " ('Botswana',),\n",
       " ('Burma',),\n",
       " ('Canada',),\n",
       " ('Central African Republic',),\n",
       " ('Chile',),\n",
       " ('Colombia',),\n",
       " ('Kazakhstan',),\n",
       " ('Kenya',),\n",
       " ('Libya',),\n",
       " ('Madagascar',),\n",
       " ('Mali',),\n",
       " ('Mauritania',),\n",
       " ('Mongolia',),\n",
       " ('Mozambique',),\n",
       " ('Namibia',),\n",
       " ('Peru',),\n",
       " ('Saudi Arabia',),\n",
       " ('Somalia',),\n",
       " ('South Africa',),\n",
       " ('South Sudan',),\n",
       " ('Sudan',),\n",
       " ('Tanzania',),\n",
       " ('Ukraine',),\n",
       " ('Venezuela',),\n",
       " ('Zambia',),\n",
       " ('Greenland',)]"
      ]
     },
     "execution_count": 3,
     "metadata": {},
     "output_type": "execute_result"
    }
   ],
   "source": [
    "%%sql\n",
    "SELECT name FROM facts\n",
    "WHERE population<(SELECT AVG(population) FROM facts) AND area>(SELECT AVG(area) FROM facts)"
   ]
  },
  {
   "cell_type": "markdown",
   "metadata": {},
   "source": [
    "And we observe that there is a long list of underpopulated and very spacious countries. I didn't expect that some of these countries would be on this list, but the pretty obvious ones include Greenland, Australia, and perhaps Kazakhstan, as these places are known for vast expanses of natural scenery."
   ]
  },
  {
   "cell_type": "markdown",
   "metadata": {},
   "source": [
    "People have often speculated that the next world wars would be fought over water, as water is fast becoming a diminishing resource. Let's look at the country with the highest water area to land area ratio, followed by the country with the lowest water to land ratio. "
   ]
  },
  {
   "cell_type": "code",
   "execution_count": 4,
   "metadata": {},
   "outputs": [
    {
     "name": "stdout",
     "output_type": "stream",
     "text": [
      " * sqlite:///factbook.db\n",
      "Done.\n"
     ]
    },
    {
     "data": {
      "text/html": [
       "<table>\n",
       "    <thead>\n",
       "        <tr>\n",
       "            <th>name</th>\n",
       "            <th>MAX(area_water/area_land)</th>\n",
       "        </tr>\n",
       "    </thead>\n",
       "    <tbody>\n",
       "        <tr>\n",
       "            <td>British Indian Ocean Territory</td>\n",
       "            <td>905</td>\n",
       "        </tr>\n",
       "    </tbody>\n",
       "</table>"
      ],
      "text/plain": [
       "[('British Indian Ocean Territory', 905)]"
      ]
     },
     "execution_count": 4,
     "metadata": {},
     "output_type": "execute_result"
    }
   ],
   "source": [
    "%%sql\n",
    "SELECT name, MAX(area_water/area_land)\n",
    "FROM facts"
   ]
  },
  {
   "cell_type": "code",
   "execution_count": 5,
   "metadata": {},
   "outputs": [
    {
     "name": "stdout",
     "output_type": "stream",
     "text": [
      " * sqlite:///factbook.db\n",
      "Done.\n"
     ]
    },
    {
     "data": {
      "text/html": [
       "<table>\n",
       "    <thead>\n",
       "        <tr>\n",
       "            <th>name</th>\n",
       "            <th>MIN(area_water/area_land)</th>\n",
       "        </tr>\n",
       "    </thead>\n",
       "    <tbody>\n",
       "        <tr>\n",
       "            <td>Afghanistan</td>\n",
       "            <td>0</td>\n",
       "        </tr>\n",
       "    </tbody>\n",
       "</table>"
      ],
      "text/plain": [
       "[('Afghanistan', 0)]"
      ]
     },
     "execution_count": 5,
     "metadata": {},
     "output_type": "execute_result"
    }
   ],
   "source": [
    "%%sql\n",
    "SELECT name, MIN(area_water/area_land)\n",
    "FROM facts\n"
   ]
  },
  {
   "cell_type": "markdown",
   "metadata": {},
   "source": [
    "And our queries tell us that the British Indian Ocean Territory, which is a small collection of British Islands located in the Indian Ocean, has the greatest abundance of water with respect to land size, and Afghanistan has virtually no water spaces to speak of, hence its water to land ratio is zero. \n",
    "\n",
    "Let's do a few more queries to explore information regarding birth rate and death rate. "
   ]
  },
  {
   "cell_type": "code",
   "execution_count": 6,
   "metadata": {},
   "outputs": [
    {
     "name": "stdout",
     "output_type": "stream",
     "text": [
      " * sqlite:///factbook.db\n",
      "Done.\n"
     ]
    },
    {
     "data": {
      "text/html": [
       "<table>\n",
       "    <thead>\n",
       "        <tr>\n",
       "            <th>name</th>\n",
       "            <th>death_rate</th>\n",
       "        </tr>\n",
       "    </thead>\n",
       "    <tbody>\n",
       "        <tr>\n",
       "            <td>Lesotho</td>\n",
       "            <td>14.89</td>\n",
       "        </tr>\n",
       "        <tr>\n",
       "            <td>Ukraine</td>\n",
       "            <td>14.46</td>\n",
       "        </tr>\n",
       "        <tr>\n",
       "            <td>Bulgaria</td>\n",
       "            <td>14.44</td>\n",
       "        </tr>\n",
       "        <tr>\n",
       "            <td>Guinea-Bissau</td>\n",
       "            <td>14.33</td>\n",
       "        </tr>\n",
       "        <tr>\n",
       "            <td>Latvia</td>\n",
       "            <td>14.31</td>\n",
       "        </tr>\n",
       "        <tr>\n",
       "            <td>Chad</td>\n",
       "            <td>14.28</td>\n",
       "        </tr>\n",
       "        <tr>\n",
       "            <td>Lithuania</td>\n",
       "            <td>14.27</td>\n",
       "        </tr>\n",
       "        <tr>\n",
       "            <td>Namibia</td>\n",
       "            <td>13.91</td>\n",
       "        </tr>\n",
       "        <tr>\n",
       "            <td>Afghanistan</td>\n",
       "            <td>13.89</td>\n",
       "        </tr>\n",
       "        <tr>\n",
       "            <td>Central African Republic</td>\n",
       "            <td>13.8</td>\n",
       "        </tr>\n",
       "    </tbody>\n",
       "</table>"
      ],
      "text/plain": [
       "[('Lesotho', 14.89),\n",
       " ('Ukraine', 14.46),\n",
       " ('Bulgaria', 14.44),\n",
       " ('Guinea-Bissau', 14.33),\n",
       " ('Latvia', 14.31),\n",
       " ('Chad', 14.28),\n",
       " ('Lithuania', 14.27),\n",
       " ('Namibia', 13.91),\n",
       " ('Afghanistan', 13.89),\n",
       " ('Central African Republic', 13.8)]"
      ]
     },
     "execution_count": 6,
     "metadata": {},
     "output_type": "execute_result"
    }
   ],
   "source": [
    "%%sql\n",
    "SELECT name, death_rate\n",
    "FROM facts\n",
    "ORDER BY death_rate DESC\n",
    "LIMIT 10;"
   ]
  },
  {
   "cell_type": "markdown",
   "metadata": {},
   "source": [
    "It turns out that Lesotho, a country in South Africa has the highest death rate. Most of the countries on this list seem to come from Eastern Europe and Africa, seeming to reflect that the living conditions in these places are perhaps subpar."
   ]
  },
  {
   "cell_type": "code",
   "execution_count": 7,
   "metadata": {},
   "outputs": [
    {
     "name": "stdout",
     "output_type": "stream",
     "text": [
      " * sqlite:///factbook.db\n",
      "Done.\n"
     ]
    },
    {
     "data": {
      "text/html": [
       "<table>\n",
       "    <thead>\n",
       "        <tr>\n",
       "            <th>name</th>\n",
       "            <th>death_rate</th>\n",
       "            <th>birth_rate</th>\n",
       "        </tr>\n",
       "    </thead>\n",
       "    <tbody>\n",
       "        <tr>\n",
       "            <td>Ukraine</td>\n",
       "            <td>14.46</td>\n",
       "            <td>10.72</td>\n",
       "        </tr>\n",
       "        <tr>\n",
       "            <td>Bulgaria</td>\n",
       "            <td>14.44</td>\n",
       "            <td>8.92</td>\n",
       "        </tr>\n",
       "        <tr>\n",
       "            <td>Latvia</td>\n",
       "            <td>14.31</td>\n",
       "            <td>10.0</td>\n",
       "        </tr>\n",
       "        <tr>\n",
       "            <td>Lithuania</td>\n",
       "            <td>14.27</td>\n",
       "            <td>10.1</td>\n",
       "        </tr>\n",
       "        <tr>\n",
       "            <td>Russia</td>\n",
       "            <td>13.69</td>\n",
       "            <td>11.6</td>\n",
       "        </tr>\n",
       "        <tr>\n",
       "            <td>Serbia</td>\n",
       "            <td>13.66</td>\n",
       "            <td>9.08</td>\n",
       "        </tr>\n",
       "        <tr>\n",
       "            <td>Belarus</td>\n",
       "            <td>13.36</td>\n",
       "            <td>10.7</td>\n",
       "        </tr>\n",
       "        <tr>\n",
       "            <td>Hungary</td>\n",
       "            <td>12.73</td>\n",
       "            <td>9.16</td>\n",
       "        </tr>\n",
       "        <tr>\n",
       "            <td>Moldova</td>\n",
       "            <td>12.59</td>\n",
       "            <td>12.0</td>\n",
       "        </tr>\n",
       "        <tr>\n",
       "            <td>Estonia</td>\n",
       "            <td>12.4</td>\n",
       "            <td>10.51</td>\n",
       "        </tr>\n",
       "        <tr>\n",
       "            <td>Croatia</td>\n",
       "            <td>12.18</td>\n",
       "            <td>9.45</td>\n",
       "        </tr>\n",
       "        <tr>\n",
       "            <td>Romania</td>\n",
       "            <td>11.9</td>\n",
       "            <td>9.14</td>\n",
       "        </tr>\n",
       "        <tr>\n",
       "            <td>Germany</td>\n",
       "            <td>11.42</td>\n",
       "            <td>8.47</td>\n",
       "        </tr>\n",
       "        <tr>\n",
       "            <td>Slovenia</td>\n",
       "            <td>11.37</td>\n",
       "            <td>8.42</td>\n",
       "        </tr>\n",
       "        <tr>\n",
       "            <td>Greece</td>\n",
       "            <td>11.09</td>\n",
       "            <td>8.66</td>\n",
       "        </tr>\n",
       "        <tr>\n",
       "            <td>Portugal</td>\n",
       "            <td>11.02</td>\n",
       "            <td>9.27</td>\n",
       "        </tr>\n",
       "        <tr>\n",
       "            <td>Czech Republic</td>\n",
       "            <td>10.34</td>\n",
       "            <td>9.63</td>\n",
       "        </tr>\n",
       "        <tr>\n",
       "            <td>Italy</td>\n",
       "            <td>10.19</td>\n",
       "            <td>8.74</td>\n",
       "        </tr>\n",
       "        <tr>\n",
       "            <td>Poland</td>\n",
       "            <td>10.19</td>\n",
       "            <td>9.74</td>\n",
       "        </tr>\n",
       "        <tr>\n",
       "            <td>Bosnia and Herzegovina</td>\n",
       "            <td>9.75</td>\n",
       "            <td>8.87</td>\n",
       "        </tr>\n",
       "        <tr>\n",
       "            <td>Saint Pierre and Miquelon</td>\n",
       "            <td>9.72</td>\n",
       "            <td>7.42</td>\n",
       "        </tr>\n",
       "        <tr>\n",
       "            <td>Japan</td>\n",
       "            <td>9.51</td>\n",
       "            <td>7.93</td>\n",
       "        </tr>\n",
       "        <tr>\n",
       "            <td>Austria</td>\n",
       "            <td>9.42</td>\n",
       "            <td>9.41</td>\n",
       "        </tr>\n",
       "        <tr>\n",
       "            <td>Monaco</td>\n",
       "            <td>9.24</td>\n",
       "            <td>6.65</td>\n",
       "        </tr>\n",
       "    </tbody>\n",
       "</table>"
      ],
      "text/plain": [
       "[('Ukraine', 14.46, 10.72),\n",
       " ('Bulgaria', 14.44, 8.92),\n",
       " ('Latvia', 14.31, 10.0),\n",
       " ('Lithuania', 14.27, 10.1),\n",
       " ('Russia', 13.69, 11.6),\n",
       " ('Serbia', 13.66, 9.08),\n",
       " ('Belarus', 13.36, 10.7),\n",
       " ('Hungary', 12.73, 9.16),\n",
       " ('Moldova', 12.59, 12.0),\n",
       " ('Estonia', 12.4, 10.51),\n",
       " ('Croatia', 12.18, 9.45),\n",
       " ('Romania', 11.9, 9.14),\n",
       " ('Germany', 11.42, 8.47),\n",
       " ('Slovenia', 11.37, 8.42),\n",
       " ('Greece', 11.09, 8.66),\n",
       " ('Portugal', 11.02, 9.27),\n",
       " ('Czech Republic', 10.34, 9.63),\n",
       " ('Italy', 10.19, 8.74),\n",
       " ('Poland', 10.19, 9.74),\n",
       " ('Bosnia and Herzegovina', 9.75, 8.87),\n",
       " ('Saint Pierre and Miquelon', 9.72, 7.42),\n",
       " ('Japan', 9.51, 7.93),\n",
       " ('Austria', 9.42, 9.41),\n",
       " ('Monaco', 9.24, 6.65)]"
      ]
     },
     "execution_count": 7,
     "metadata": {},
     "output_type": "execute_result"
    }
   ],
   "source": [
    "%%sql\n",
    "SELECT name, death_rate, birth_rate\n",
    "FROM facts\n",
    "WHERE death_rate > birth_rate\n",
    "ORDER BY death_rate DESC;"
   ]
  },
  {
   "cell_type": "markdown",
   "metadata": {},
   "source": [
    "The above query explores countries where the death rate is higher than birth rate. This means that in the long run, the countries above will face a decline in population. But perhaps it is easier to display the above information in terms of ratios."
   ]
  },
  {
   "cell_type": "code",
   "execution_count": 8,
   "metadata": {},
   "outputs": [
    {
     "name": "stdout",
     "output_type": "stream",
     "text": [
      " * sqlite:///factbook.db\n",
      "Done.\n"
     ]
    },
    {
     "data": {
      "text/html": [
       "<table>\n",
       "    <thead>\n",
       "        <tr>\n",
       "            <th>name</th>\n",
       "            <th>death_rate</th>\n",
       "            <th>birth_rate</th>\n",
       "            <th>ratio</th>\n",
       "        </tr>\n",
       "    </thead>\n",
       "    <tbody>\n",
       "        <tr>\n",
       "            <td>Bulgaria</td>\n",
       "            <td>14.44</td>\n",
       "            <td>8.92</td>\n",
       "            <td>1.62</td>\n",
       "        </tr>\n",
       "        <tr>\n",
       "            <td>Serbia</td>\n",
       "            <td>13.66</td>\n",
       "            <td>9.08</td>\n",
       "            <td>1.5</td>\n",
       "        </tr>\n",
       "        <tr>\n",
       "            <td>Latvia</td>\n",
       "            <td>14.31</td>\n",
       "            <td>10.0</td>\n",
       "            <td>1.43</td>\n",
       "        </tr>\n",
       "        <tr>\n",
       "            <td>Lithuania</td>\n",
       "            <td>14.27</td>\n",
       "            <td>10.1</td>\n",
       "            <td>1.41</td>\n",
       "        </tr>\n",
       "        <tr>\n",
       "            <td>Hungary</td>\n",
       "            <td>12.73</td>\n",
       "            <td>9.16</td>\n",
       "            <td>1.39</td>\n",
       "        </tr>\n",
       "        <tr>\n",
       "            <td>Monaco</td>\n",
       "            <td>9.24</td>\n",
       "            <td>6.65</td>\n",
       "            <td>1.39</td>\n",
       "        </tr>\n",
       "        <tr>\n",
       "            <td>Germany</td>\n",
       "            <td>11.42</td>\n",
       "            <td>8.47</td>\n",
       "            <td>1.35</td>\n",
       "        </tr>\n",
       "        <tr>\n",
       "            <td>Slovenia</td>\n",
       "            <td>11.37</td>\n",
       "            <td>8.42</td>\n",
       "            <td>1.35</td>\n",
       "        </tr>\n",
       "        <tr>\n",
       "            <td>Ukraine</td>\n",
       "            <td>14.46</td>\n",
       "            <td>10.72</td>\n",
       "            <td>1.35</td>\n",
       "        </tr>\n",
       "        <tr>\n",
       "            <td>Saint Pierre and Miquelon</td>\n",
       "            <td>9.72</td>\n",
       "            <td>7.42</td>\n",
       "            <td>1.31</td>\n",
       "        </tr>\n",
       "    </tbody>\n",
       "</table>"
      ],
      "text/plain": [
       "[('Bulgaria', 14.44, 8.92, 1.62),\n",
       " ('Serbia', 13.66, 9.08, 1.5),\n",
       " ('Latvia', 14.31, 10.0, 1.43),\n",
       " ('Lithuania', 14.27, 10.1, 1.41),\n",
       " ('Hungary', 12.73, 9.16, 1.39),\n",
       " ('Monaco', 9.24, 6.65, 1.39),\n",
       " ('Germany', 11.42, 8.47, 1.35),\n",
       " ('Slovenia', 11.37, 8.42, 1.35),\n",
       " ('Ukraine', 14.46, 10.72, 1.35),\n",
       " ('Saint Pierre and Miquelon', 9.72, 7.42, 1.31)]"
      ]
     },
     "execution_count": 8,
     "metadata": {},
     "output_type": "execute_result"
    }
   ],
   "source": [
    "%%sql\n",
    "SELECT name, death_rate, birth_rate, ROUND(death_rate/birth_rate,2) AS ratio\n",
    "FROM facts\n",
    "WHERE death_rate > birth_rate\n",
    "ORDER BY ratio DESC\n",
    "LIMIT 10;"
   ]
  },
  {
   "cell_type": "markdown",
   "metadata": {},
   "source": [
    "In Bulgaria, for every 1.62 deaths in the country, 1 new child is born, and for Serbia, for every 1.5 deaths in the country, 1 new child is born, so on and so forth. Now it becomes a lot more obvious to us how dire the situation in these countries is. "
   ]
  },
  {
   "cell_type": "markdown",
   "metadata": {},
   "source": [
    "Let's not end on such a grim note, and for our last query, let's explore which countries will add the most number of people to their population in the following year."
   ]
  },
  {
   "cell_type": "code",
   "execution_count": 13,
   "metadata": {},
   "outputs": [
    {
     "name": "stdout",
     "output_type": "stream",
     "text": [
      " * sqlite:///factbook.db\n",
      "Done.\n"
     ]
    },
    {
     "data": {
      "text/html": [
       "<table>\n",
       "    <thead>\n",
       "        <tr>\n",
       "            <th>name</th>\n",
       "            <th>new_addition</th>\n",
       "        </tr>\n",
       "    </thead>\n",
       "    <tbody>\n",
       "        <tr>\n",
       "            <td>India</td>\n",
       "            <td>1527068612.48</td>\n",
       "        </tr>\n",
       "        <tr>\n",
       "            <td>China</td>\n",
       "            <td>615368424.6</td>\n",
       "        </tr>\n",
       "        <tr>\n",
       "            <td>Nigeria</td>\n",
       "            <td>444827037.20000005</td>\n",
       "        </tr>\n",
       "        <tr>\n",
       "            <td>Pakistan</td>\n",
       "            <td>290665336.62</td>\n",
       "        </tr>\n",
       "        <tr>\n",
       "            <td>Ethiopia</td>\n",
       "            <td>287456216.91</td>\n",
       "        </tr>\n",
       "        <tr>\n",
       "            <td>Bangladesh</td>\n",
       "            <td>270332392.0</td>\n",
       "        </tr>\n",
       "        <tr>\n",
       "            <td>United States</td>\n",
       "            <td>250667713.92000002</td>\n",
       "        </tr>\n",
       "        <tr>\n",
       "            <td>Indonesia</td>\n",
       "            <td>235514180.08</td>\n",
       "        </tr>\n",
       "        <tr>\n",
       "            <td>Congo, Democratic Republic of the</td>\n",
       "            <td>194469083.20000002</td>\n",
       "        </tr>\n",
       "        <tr>\n",
       "            <td>Philippines</td>\n",
       "            <td>162607385.36</td>\n",
       "        </tr>\n",
       "    </tbody>\n",
       "</table>"
      ],
      "text/plain": [
       "[('India', 1527068612.48),\n",
       " ('China', 615368424.6),\n",
       " ('Nigeria', 444827037.20000005),\n",
       " ('Pakistan', 290665336.62),\n",
       " ('Ethiopia', 287456216.91),\n",
       " ('Bangladesh', 270332392.0),\n",
       " ('United States', 250667713.92000002),\n",
       " ('Indonesia', 235514180.08),\n",
       " ('Congo, Democratic Republic of the', 194469083.20000002),\n",
       " ('Philippines', 162607385.36)]"
      ]
     },
     "execution_count": 13,
     "metadata": {},
     "output_type": "execute_result"
    }
   ],
   "source": [
    "%%sql\n",
    "SELECT name, population_growth*population AS new_addition\n",
    "FROM facts\n",
    "WHERE NAME!='World'\n",
    "ORDER BY 2 DESC\n",
    "LIMIT 10;"
   ]
  },
  {
   "cell_type": "markdown",
   "metadata": {},
   "source": [
    "And India leads the way, adding more than a billion new people in the coming year, followed by China adding more than 600 million new people in the coming year. Many other African countries are also on the above list, perhaps due to the fact that it is very difficult to regulate birth rates in these areas."
   ]
  },
  {
   "cell_type": "code",
   "execution_count": null,
   "metadata": {},
   "outputs": [],
   "source": []
  }
 ],
 "metadata": {
  "kernelspec": {
   "display_name": "Python 3",
   "language": "python",
   "name": "python3"
  },
  "language_info": {
   "codemirror_mode": {
    "name": "ipython",
    "version": 3
   },
   "file_extension": ".py",
   "mimetype": "text/x-python",
   "name": "python",
   "nbconvert_exporter": "python",
   "pygments_lexer": "ipython3",
   "version": "3.8.3"
  }
 },
 "nbformat": 4,
 "nbformat_minor": 4
}
